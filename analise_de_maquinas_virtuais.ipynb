{
  "nbformat": 4,
  "nbformat_minor": 0,
  "metadata": {
    "colab": {
      "name": "Análise de Máquinas Virtuais.ipynb",
      "provenance": [],
      "collapsed_sections": [],
      "toc_visible": true,
      "include_colab_link": true
    },
    "kernelspec": {
      "name": "python3",
      "display_name": "Python 3"
    }
  },
  "cells": [
    {
      "cell_type": "markdown",
      "metadata": {
        "id": "view-in-github",
        "colab_type": "text"
      },
      "source": [
        "<a href=\"https://colab.research.google.com/github/gugamainchein/Data-Science-Auditoria-VMs/blob/master/analise_de_maquinas_virtuais.ipynb\" target=\"_parent\"><img src=\"https://colab.research.google.com/assets/colab-badge.svg\" alt=\"Open In Colab\"/></a>"
      ]
    },
    {
      "cell_type": "markdown",
      "metadata": {
        "id": "vUatH0L_EhaP"
      },
      "source": [
        "***\n",
        "# **AUDITORIA DE MÁQUINAS VIRTUAIS**\n",
        "***"
      ]
    },
    {
      "cell_type": "markdown",
      "metadata": {
        "id": "MCJ_SnUmTZMm"
      },
      "source": [
        "# **1. Conhecendo os Dados**\n",
        "***"
      ]
    },
    {
      "cell_type": "markdown",
      "metadata": {
        "id": "AzvBvehLTeMa"
      },
      "source": [
        "## **1.1 Dataset do projeto**\n",
        "***"
      ]
    },
    {
      "cell_type": "markdown",
      "metadata": {
        "id": "yMaTl8qlwm0T"
      },
      "source": [
        "### CMDB de Máquinas Virtuais\n",
        "\n",
        "O CMDB de máquinas virtuais investiga, a cada consulta, o registro de VMs nos virtualizadores e na monitoração. Além disso <b>realiza o crosscheck entre as bases de dados</b> para verificar o que há de igual e diferente entre elas."
      ]
    },
    {
      "cell_type": "markdown",
      "metadata": {
        "id": "qJj4FKWcUo7c"
      },
      "source": [
        "### Fontes de Dados\n",
        "\n",
        "https://drive.google.com/file/d/1lfH3qUIr9W0d16NFNHzaKIaaMloq1C2X/view?usp=sharing"
      ]
    },
    {
      "cell_type": "markdown",
      "metadata": {
        "id": "Lgc3t_HzVSLy"
      },
      "source": [
        "### Variáveis Utilizadas\n",
        "\n",
        "> ### Grupo de Clientes\n",
        "> ***\n",
        "\n",
        "Verificação da frequência de aparições de clientes por status de máquinas monitoradas.\n",
        "\n",
        "> ### Grupo de Hosts\n",
        "> ***\n",
        "\n",
        "Verificação da frequência de aparições dos Hosts por status de máquinas monitoradas.\n",
        "\n",
        "> ### Licenças de SO\n",
        "> ***\n",
        "\n",
        "Análise do consumo de licenças de sistemas operacionais Windows, contratadas por Hosts."
      ]
    },
    {
      "cell_type": "markdown",
      "metadata": {
        "id": "lorsDN45XFFU"
      },
      "source": [
        "### Importando pandas e lendo o dataset do projeto"
      ]
    },
    {
      "cell_type": "code",
      "metadata": {
        "id": "vhdSfwG16jIg",
        "outputId": "db7f026f-3f19-4adc-da34-847b765e69b2",
        "colab": {
          "base_uri": "https://localhost:8080/",
          "height": 347
        }
      },
      "source": [
        "# Importando as bibliotecas Python\n",
        "import pandas as pd\n",
        "import numpy as np\n",
        "\n",
        "# Armazenando a resposta no formato JSON\n",
        "df_clientes = pd.read_csv('servidores.csv', sep = \";\")\n",
        "\n",
        "# Imprimindo os 10 primeiros valores do resultado\n",
        "df_clientes.head(10)"
      ],
      "execution_count": 14,
      "outputs": [
        {
          "output_type": "execute_result",
          "data": {
            "text/html": [
              "<div>\n",
              "<style scoped>\n",
              "    .dataframe tbody tr th:only-of-type {\n",
              "        vertical-align: middle;\n",
              "    }\n",
              "\n",
              "    .dataframe tbody tr th {\n",
              "        vertical-align: top;\n",
              "    }\n",
              "\n",
              "    .dataframe thead th {\n",
              "        text-align: right;\n",
              "    }\n",
              "</style>\n",
              "<table border=\"1\" class=\"dataframe\">\n",
              "  <thead>\n",
              "    <tr style=\"text-align: right;\">\n",
              "      <th></th>\n",
              "      <th>Empresa_Aleatória</th>\n",
              "      <th>Monitoração</th>\n",
              "      <th>Sistema_Operacional</th>\n",
              "      <th>Host</th>\n",
              "    </tr>\n",
              "  </thead>\n",
              "  <tbody>\n",
              "    <tr>\n",
              "      <th>0</th>\n",
              "      <td>SO PNEUS</td>\n",
              "      <td>MONITORADO</td>\n",
              "      <td>Red Hat Enterprise Linux 5 (64-bit)</td>\n",
              "      <td>SF-VMW-CFX20</td>\n",
              "    </tr>\n",
              "    <tr>\n",
              "      <th>1</th>\n",
              "      <td>IMC SASTE</td>\n",
              "      <td>MONITORADO</td>\n",
              "      <td>Microsoft Windows Server 2012 (64-bit)</td>\n",
              "      <td>SF-VMW-CFX20</td>\n",
              "    </tr>\n",
              "    <tr>\n",
              "      <th>2</th>\n",
              "      <td>TRADEMASTER</td>\n",
              "      <td>MONITORADO</td>\n",
              "      <td>Microsoft Windows Server 2008 R2 (64-bit)</td>\n",
              "      <td>SF-VMW-CFX35</td>\n",
              "    </tr>\n",
              "    <tr>\n",
              "      <th>3</th>\n",
              "      <td>SO PNEUS</td>\n",
              "      <td>MONITORADO</td>\n",
              "      <td>Microsoft Windows Server 2008 (64-bit)</td>\n",
              "      <td>SF-VMW-CFX83</td>\n",
              "    </tr>\n",
              "    <tr>\n",
              "      <th>4</th>\n",
              "      <td>SO PNEUS</td>\n",
              "      <td>MONITORADO</td>\n",
              "      <td>Red Hat Enterprise Linux 6 (64-bit)</td>\n",
              "      <td>SF-VMW-CFX84</td>\n",
              "    </tr>\n",
              "    <tr>\n",
              "      <th>5</th>\n",
              "      <td>TRADEMASTER</td>\n",
              "      <td>MONITORADO</td>\n",
              "      <td>Microsoft Windows Server 2012 (64-bit)</td>\n",
              "      <td>SF-VMW-CFX35</td>\n",
              "    </tr>\n",
              "    <tr>\n",
              "      <th>6</th>\n",
              "      <td>UNIMAR SCC</td>\n",
              "      <td>MONITORADO</td>\n",
              "      <td>Microsoft Windows Server 2008 R2 (64-bit)</td>\n",
              "      <td>SF-VMW-CFX84</td>\n",
              "    </tr>\n",
              "    <tr>\n",
              "      <th>7</th>\n",
              "      <td>ALEATÓRIO</td>\n",
              "      <td>MONITORADO</td>\n",
              "      <td>Red Hat Enterprise Linux 5 (64-bit)</td>\n",
              "      <td>SF-VMW-CFX35</td>\n",
              "    </tr>\n",
              "    <tr>\n",
              "      <th>8</th>\n",
              "      <td>PLANO &amp; PLANO</td>\n",
              "      <td>MONITORADO</td>\n",
              "      <td>Red Hat Enterprise Linux 6 (64-bit)</td>\n",
              "      <td>SF-VMW-CFX83</td>\n",
              "    </tr>\n",
              "    <tr>\n",
              "      <th>9</th>\n",
              "      <td>PLANO &amp; PLANO</td>\n",
              "      <td>MONITORADO</td>\n",
              "      <td>Red Hat Enterprise Linux 6 (64-bit)</td>\n",
              "      <td>SF-VMW-CFX84</td>\n",
              "    </tr>\n",
              "  </tbody>\n",
              "</table>\n",
              "</div>"
            ],
            "text/plain": [
              "  Empresa_Aleatória  ...          Host\n",
              "0         SO PNEUS   ...  SF-VMW-CFX20\n",
              "1        IMC SASTE   ...  SF-VMW-CFX20\n",
              "2      TRADEMASTER   ...  SF-VMW-CFX35\n",
              "3         SO PNEUS   ...  SF-VMW-CFX83\n",
              "4         SO PNEUS   ...  SF-VMW-CFX84\n",
              "5      TRADEMASTER   ...  SF-VMW-CFX35\n",
              "6       UNIMAR SCC   ...  SF-VMW-CFX84\n",
              "7         ALEATÓRIO  ...  SF-VMW-CFX35\n",
              "8    PLANO & PLANO   ...  SF-VMW-CFX83\n",
              "9    PLANO & PLANO   ...  SF-VMW-CFX84\n",
              "\n",
              "[10 rows x 4 columns]"
            ]
          },
          "metadata": {
            "tags": []
          },
          "execution_count": 14
        }
      ]
    },
    {
      "cell_type": "markdown",
      "metadata": {
        "id": "OndN9tEPwmSx"
      },
      "source": [
        "## **1.2 Tipos de Dados**\n",
        "***"
      ]
    },
    {
      "cell_type": "markdown",
      "metadata": {
        "id": "GOThRhXOwwv3"
      },
      "source": [
        "### Variáveis qualitativas nominais\n",
        "\n",
        "► Variáveis que não podem ser ordenadas ou hierarquizardas"
      ]
    },
    {
      "cell_type": "code",
      "metadata": {
        "id": "MkT6ebAAwy_7",
        "outputId": "3514d233-80d8-4653-ebfa-b2d083590437",
        "colab": {
          "base_uri": "https://localhost:8080/",
          "height": 123
        }
      },
      "source": [
        "df_clientes['Empresa_Aleatória'].head()"
      ],
      "execution_count": 15,
      "outputs": [
        {
          "output_type": "execute_result",
          "data": {
            "text/plain": [
              "0       SO PNEUS \n",
              "1      IMC SASTE \n",
              "2    TRADEMASTER \n",
              "3       SO PNEUS \n",
              "4       SO PNEUS \n",
              "Name: Empresa_Aleatória, dtype: object"
            ]
          },
          "metadata": {
            "tags": []
          },
          "execution_count": 15
        }
      ]
    },
    {
      "cell_type": "code",
      "metadata": {
        "id": "fPsM1hAqxhCN",
        "outputId": "2dfdd013-67ce-414e-bc05-4574197d94f7",
        "colab": {
          "base_uri": "https://localhost:8080/",
          "height": 123
        }
      },
      "source": [
        "df_clientes['Monitoração'].head()"
      ],
      "execution_count": 16,
      "outputs": [
        {
          "output_type": "execute_result",
          "data": {
            "text/plain": [
              "0    MONITORADO\n",
              "1    MONITORADO\n",
              "2    MONITORADO\n",
              "3    MONITORADO\n",
              "4    MONITORADO\n",
              "Name: Monitoração, dtype: object"
            ]
          },
          "metadata": {
            "tags": []
          },
          "execution_count": 16
        }
      ]
    },
    {
      "cell_type": "code",
      "metadata": {
        "id": "fE9Berhwx6lO",
        "outputId": "4e987f2c-0cb8-4435-e187-4220ae449631",
        "colab": {
          "base_uri": "https://localhost:8080/",
          "height": 123
        }
      },
      "source": [
        "df_clientes['Sistema_Operacional'].head()"
      ],
      "execution_count": 17,
      "outputs": [
        {
          "output_type": "execute_result",
          "data": {
            "text/plain": [
              "0          Red Hat Enterprise Linux 5 (64-bit)\n",
              "1       Microsoft Windows Server 2012 (64-bit)\n",
              "2    Microsoft Windows Server 2008 R2 (64-bit)\n",
              "3       Microsoft Windows Server 2008 (64-bit)\n",
              "4          Red Hat Enterprise Linux 6 (64-bit)\n",
              "Name: Sistema_Operacional, dtype: object"
            ]
          },
          "metadata": {
            "tags": []
          },
          "execution_count": 17
        }
      ]
    },
    {
      "cell_type": "code",
      "metadata": {
        "id": "dbISeUeywDcc",
        "outputId": "f781d4a1-bc0e-4276-97a8-75221590cd68",
        "colab": {
          "base_uri": "https://localhost:8080/",
          "height": 123
        }
      },
      "source": [
        "df_clientes['Host'].head()"
      ],
      "execution_count": 18,
      "outputs": [
        {
          "output_type": "execute_result",
          "data": {
            "text/plain": [
              "0    SF-VMW-CFX20\n",
              "1    SF-VMW-CFX20\n",
              "2    SF-VMW-CFX35\n",
              "3    SF-VMW-CFX83\n",
              "4    SF-VMW-CFX84\n",
              "Name: Host, dtype: object"
            ]
          },
          "metadata": {
            "tags": []
          },
          "execution_count": 18
        }
      ]
    },
    {
      "cell_type": "markdown",
      "metadata": {
        "id": "_ICHFnd9aUsN"
      },
      "source": [
        "# **2. Distribuição de Frequência**"
      ]
    },
    {
      "cell_type": "markdown",
      "metadata": {
        "id": "mLrTH-_Oyhvc"
      },
      "source": [
        "## **2.1. Grupo de Clientes:**\n",
        "***\n",
        "\n",
        "Verificação da frequência de aparições de clientes por status de máquinas monitoradas."
      ]
    },
    {
      "cell_type": "markdown",
      "metadata": {
        "id": "BOXhNg-qumWX"
      },
      "source": [
        "**No formato de DataFrames:**"
      ]
    },
    {
      "cell_type": "code",
      "metadata": {
        "id": "sgINMBP2abl3",
        "outputId": "f4e24a81-30f7-4bff-dbec-73aba2881460",
        "colab": {
          "base_uri": "https://localhost:8080/",
          "height": 585
        }
      },
      "source": [
        "# Importando as biblioteca Python\n",
        "import seaborn as sns\n",
        "\n",
        "# Filtrando por uma condição dentro do DataFrame\n",
        "clientes_nao_mon = df_clientes.query(\"Monitoração=='NAO_MON'\")\n",
        "clientes_mon = df_clientes.query(\"Monitoração=='MONITORADO'\")\n",
        "\n",
        "# Contador de frequências de clientes\n",
        "fq_clientes_nao_mon = clientes_nao_mon.Empresa_Aleatória.value_counts()\n",
        "fq_clientes_mon = clientes_mon.Empresa_Aleatória.value_counts()\n",
        "\n",
        "# Criando DataFrame de clientes não monitorados\n",
        "df_clientes_nao_mon = pd.DataFrame(fq_clientes_nao_mon)\n",
        "df_clientes_nao_mon.columns = ['Contagem']\n",
        "df_clientes_nao_mon['Cliente'] = df_clientes_nao_mon.index\n",
        "df_clientes_nao_mon.reset_index(drop = True, inplace = True)\n",
        "df_clientes_nao_mon = df_clientes_nao_mon[['Cliente', 'Contagem']]\n",
        "print('\\nGrupo de Clientes Não Monitorados\\n', df_clientes_nao_mon)\n",
        "\n",
        "# Criando DataFrame de clientes monitorados\n",
        "df_clientes_mon = pd.DataFrame(fq_clientes_mon)\n",
        "df_clientes_mon.columns = ['Contagem']\n",
        "df_clientes_mon['Cliente'] = df_clientes_mon.index\n",
        "df_clientes_mon.reset_index(drop = True, inplace = True)\n",
        "df_clientes_mon = df_clientes_mon[['Cliente', 'Contagem']]\n",
        "print('\\nGrupo de Clientes Monitorados\\n', df_clientes_mon)"
      ],
      "execution_count": 19,
      "outputs": [
        {
          "output_type": "stream",
          "text": [
            "\n",
            "Grupo de Clientes Não Monitorados\n",
            "          Cliente  Contagem\n",
            "0      ALEATÓRIO       203\n",
            "1    SEM_CLIENTE        31\n",
            "2       LEVEROS         10\n",
            "3         TENDA          9\n",
            "4      MANPOWER          8\n",
            "..           ...       ...\n",
            "86      JEROVIA          1\n",
            "87        INPAO          1\n",
            "88        NOKIA          1\n",
            "89  LOJAS LEBES          1\n",
            "90       HUGPAY          1\n",
            "\n",
            "[91 rows x 2 columns]\n",
            "\n",
            "Grupo de Clientes Monitorados\n",
            "            Cliente  Contagem\n",
            "0        ALEATÓRIO       135\n",
            "1          PROPAY         92\n",
            "2       DELLA VIA         64\n",
            "3           NOKIA         45\n",
            "4      SEM_CLIENTE        43\n",
            "..             ...       ...\n",
            "173      EBMPAPST          1\n",
            "174   ISO SERVICE          1\n",
            "175         SELCO          1\n",
            "176     DISMARINA          1\n",
            "177  TERRAS ALTAS          1\n",
            "\n",
            "[178 rows x 2 columns]\n"
          ],
          "name": "stdout"
        }
      ]
    },
    {
      "cell_type": "markdown",
      "metadata": {
        "id": "DESvKmL5u4If"
      },
      "source": [
        "**No formato de Gráficos:**"
      ]
    },
    {
      "cell_type": "code",
      "metadata": {
        "id": "ifjCCEfstid0",
        "outputId": "96f4dbbd-9993-414c-bcab-ae0ec31f0585",
        "colab": {
          "base_uri": "https://localhost:8080/",
          "height": 707
        }
      },
      "source": [
        "# Apresentando os gráficos\n",
        "grafico_clientes_nao_mon = sns.catplot(x = \"Empresa_Aleatória\", kind=\"count\",\n",
        "                               data = clientes_nao_mon,\n",
        "                               aspect = 3,\n",
        "                               order = fq_clientes_nao_mon.index,\n",
        "                               palette = \"GnBu_d\")\n",
        "\n",
        "grafico_clientes_mon = sns.catplot(x = \"Empresa_Aleatória\", kind=\"count\",\n",
        "                               data = clientes_mon,\n",
        "                               aspect = 3,\n",
        "                               order = fq_clientes_mon.index,\n",
        "                               palette = \"GnBu_d\")\n",
        "\n",
        "# Limitando exibição no eixo x\n",
        "grafico_clientes_nao_mon.set(xlim=(0, 12))\n",
        "grafico_clientes_mon.set(xlim=(0, 12))\n",
        "\n",
        "# Definindo legenda vertical\n",
        "grafico_clientes_nao_mon.set_axis_labels(\"\", \"Contagem\")\n",
        "grafico_clientes_mon.set_axis_labels(\"\", \"Contagem\")\n",
        "\n",
        "# Definindo o título do gráfico\n",
        "grafico_clientes_nao_mon.set_titles(\"Grupos de Clientes Não Monitorados\")\n",
        "grafico_clientes_mon.set_titles(\"Grupos de Clientes Monitorados\")"
      ],
      "execution_count": 20,
      "outputs": [
        {
          "output_type": "execute_result",
          "data": {
            "text/plain": [
              "<seaborn.axisgrid.FacetGrid at 0x7fc9bd31c358>"
            ]
          },
          "metadata": {
            "tags": []
          },
          "execution_count": 20
        },
        {
          "output_type": "display_data",
          "data": {
            "image/png": "[encoded data removed]",
            "text/plain": [
              "<Figure size 1080x360 with 1 Axes>"
            ]
          },
          "metadata": {
            "tags": [],
            "needs_background": "light"
          }
        },
        {
          "output_type": "display_data",
          "data": {
            "image/png": "[encoded data removed]",
            "text/plain": [
              "<Figure size 1080x360 with 1 Axes>"
            ]
          },
          "metadata": {
            "tags": [],
            "needs_background": "light"
          }
        }
      ]
    },
    {
      "cell_type": "markdown",
      "metadata": {
        "id": "-AoPKAJPyjJo"
      },
      "source": [
        "## **2.2. Grupo de Hosts:**\n",
        "***\n",
        "\n",
        "Verificação da frequência de aparições dos Hosts por status de máquinas monitoradas."
      ]
    },
    {
      "cell_type": "markdown",
      "metadata": {
        "id": "4xQGcYc01Nk-"
      },
      "source": [
        "**No formato de DataFrames:**"
      ]
    },
    {
      "cell_type": "code",
      "metadata": {
        "id": "UgnOdxILysTC",
        "outputId": "ec7aa119-b194-448e-b83c-2dc086d4fe38",
        "colab": {
          "base_uri": "https://localhost:8080/",
          "height": 585
        }
      },
      "source": [
        "# Importando as biblioteca Python\n",
        "import seaborn as sns\n",
        "\n",
        "# Filtrando por uma condição dentro do DataFrame\n",
        "hosts_nao_mon = df_clientes.query(\"Monitoração=='NAO_MON'\")\n",
        "hosts_mon = df_clientes.query(\"Monitoração=='MONITORADO'\")\n",
        "\n",
        "# Contador de frequências de clientes\n",
        "fq_hosts_nao_mon = hosts_nao_mon.Host.value_counts()\n",
        "fq_hosts_mon = hosts_mon.Host.value_counts()\n",
        "\n",
        "# Criando DataFrame de clientes não monitorados\n",
        "df_hosts_nao_mon = pd.DataFrame(fq_hosts_nao_mon)\n",
        "df_hosts_nao_mon.columns = ['Contagem']\n",
        "df_hosts_nao_mon['Cliente'] = df_hosts_nao_mon.index\n",
        "df_hosts_nao_mon.reset_index(drop = True, inplace = True)\n",
        "df_hosts_nao_mon = df_hosts_nao_mon[['Cliente', 'Contagem']]\n",
        "print('\\nGrupo de Hosts Não Monitorados\\n', df_hosts_nao_mon)\n",
        "\n",
        "# Criando DataFrame de clientes monitorados\n",
        "df_hosts_mon = pd.DataFrame(fq_hosts_mon)\n",
        "df_hosts_mon.columns = ['Contagem']\n",
        "df_hosts_mon['Cliente'] = df_hosts_mon.index\n",
        "df_hosts_mon.reset_index(drop = True, inplace = True)\n",
        "df_hosts_mon = df_hosts_mon[['Cliente', 'Contagem']]\n",
        "print('\\nGrupo de Hosts Monitorados\\n', df_hosts_mon)"
      ],
      "execution_count": 21,
      "outputs": [
        {
          "output_type": "stream",
          "text": [
            "\n",
            "Grupo de Hosts Não Monitorados\n",
            "                           Cliente  Contagem\n",
            "0                    SF-VMW-EQX04        12\n",
            "1    SF-KVM-EQX04.CORPFLEX.COM.BR        10\n",
            "2    SF-KVM-TMK15.CORPFLEX.COM.BR        10\n",
            "3    SF-KVM-EQX32.CORPFLEX.COM.BR        10\n",
            "4                    SF-VMW-CFX17        10\n",
            "..                            ...       ...\n",
            "109                  SF-VMW-CFX75         1\n",
            "110                  SF-VMW-CFX53         1\n",
            "111                  SF-VMW-CFX71         1\n",
            "112                  SF-VMW-CFX15         1\n",
            "113  SF-KVM-EQX51.CORPFLEX.COM.BR         1\n",
            "\n",
            "[114 rows x 2 columns]\n",
            "\n",
            "Grupo de Hosts Monitorados\n",
            "                           Cliente  Contagem\n",
            "0                    SF-VMW-CFX13        33\n",
            "1                    SF-VMW-EQX51        31\n",
            "2                    SF-VMW-CFX35        31\n",
            "3                    SF-VMW-CFX58        31\n",
            "4    SF-KVM-EQX05.CORPFLEX.COM.BR        30\n",
            "..                            ...       ...\n",
            "130                  SF-VMW-LEB02         1\n",
            "131  SF-KVM-TMK02.CORPFLEX.COM.BR         1\n",
            "132  SF-KVM-LEB02.CORPFLEX.COM.BR         1\n",
            "133  SF-KVM-EQX71.CORPFLEX.COM.BR         1\n",
            "134  SF-KVM-TMK03.CORPFLEX.COM.BR         1\n",
            "\n",
            "[135 rows x 2 columns]\n"
          ],
          "name": "stdout"
        }
      ]
    },
    {
      "cell_type": "markdown",
      "metadata": {
        "id": "yAkjzMVj1RJu"
      },
      "source": [
        "**No formato de Gráficos:**"
      ]
    },
    {
      "cell_type": "code",
      "metadata": {
        "id": "lqiq7RdY0jOT",
        "outputId": "7b325e85-8b9d-4a72-f890-2d486bb6ff17",
        "colab": {
          "base_uri": "https://localhost:8080/",
          "height": 711
        }
      },
      "source": [
        "# Apresentando os gráficos\n",
        "grafico_hosts_nao_mon = sns.catplot(x = \"Host\", kind=\"count\",\n",
        "                               data = hosts_nao_mon,\n",
        "                               aspect = 3,\n",
        "                               order = fq_hosts_nao_mon.index,\n",
        "                               palette = \"GnBu_d\")\n",
        "\n",
        "grafico_hosts_mon = sns.catplot(x = \"Host\", kind=\"count\",\n",
        "                               data = hosts_mon,\n",
        "                               aspect = 3,\n",
        "                               order = fq_hosts_mon.index,\n",
        "                               palette = \"GnBu_d\")\n",
        "\n",
        "# Limitando exibição no eixo x\n",
        "grafico_hosts_nao_mon.set(xlim=(0, 5))\n",
        "grafico_hosts_mon.set(xlim=(0, 5))\n",
        "\n",
        "# Definindo legenda vertical\n",
        "grafico_hosts_nao_mon.set_axis_labels(\"\", \"Contagem\")\n",
        "grafico_hosts_mon.set_axis_labels(\"\", \"Contagem\")"
      ],
      "execution_count": 27,
      "outputs": [
        {
          "output_type": "execute_result",
          "data": {
            "text/plain": [
              "<seaborn.axisgrid.FacetGrid at 0x7fc9b99f7ef0>"
            ]
          },
          "metadata": {
            "tags": []
          },
          "execution_count": 27
        },
        {
          "output_type": "display_data",
          "data": {
            "image/png": "[encoded data removed]",
            "text/plain": [
              "<Figure size 1080x360 with 1 Axes>"
            ]
          },
          "metadata": {
            "tags": [],
            "needs_background": "light"
          }
        },
        {
          "output_type": "display_data",
          "data": {
            "image/png": "[encoded data removed]",
            "text/plain": [
              "<Figure size 1080x360 with 1 Axes>"
            ]
          },
          "metadata": {
            "tags": [],
            "needs_background": "light"
          }
        }
      ]
    },
    {
      "cell_type": "markdown",
      "metadata": {
        "id": "hunBm8qE1X0X"
      },
      "source": [
        "## **2.3. Licenças de S.O.:**\n",
        "***\n",
        "\n",
        "Análise do consumo de licenças de sistemas operacionais Windows, contratadas por Hosts."
      ]
    },
    {
      "cell_type": "code",
      "metadata": {
        "id": "aTEUEbIi1mi4",
        "outputId": "5d5e7b0e-6d61-41e3-cfd7-9b5e3f1c1ed5",
        "colab": {
          "base_uri": "https://localhost:8080/",
          "height": 70
        }
      },
      "source": [
        "# Variável de escolha do Cliente\n",
        "cliente = 'ALEATÓRIO'\n",
        "sistema = 'Windows'\n",
        "\n",
        "# Criando array de sistemas operacionais\n",
        "windows_so = []\n",
        "\n",
        "# Percorrendo laço de repetição\n",
        "for i in range(0, len(df_clientes)):\n",
        "  # Criando array de sistemas operacionais no laço\n",
        "  row = []\n",
        "\n",
        "  # Condições para append\n",
        "  if df_clientes['Sistema_Operacional'].astype(str).apply(lambda x: x[:3])[i] == 'Win':\n",
        "    row.append('Windows')\n",
        "    row.append(df_clientes['Empresa_Aleatória'][i])\n",
        "    row.append(df_clientes['Monitoração'][i])\n",
        "    row.append(df_clientes['Host'][i])\n",
        "  elif df_clientes['Sistema_Operacional'].astype(str).apply(lambda x: x[:9])[i] == 'Microsoft':\n",
        "    row.append('Windows')\n",
        "    row.append(df_clientes['Empresa_Aleatória'][i])\n",
        "    row.append(df_clientes['Monitoração'][i])\n",
        "    row.append(df_clientes['Host'][i])\n",
        "  else:\n",
        "    row.append('Outros')\n",
        "    row.append(df_clientes['Empresa_Aleatória'][i])\n",
        "    row.append(df_clientes['Monitoração'][i])\n",
        "    row.append(df_clientes['Host'][i])\n",
        "\n",
        "  # Acrescentando valores no array de sistemas operacionais\n",
        "  windows_so.append(row)\n",
        "\n",
        "# Criando DataFrame a partir dos dados inseridos no laço\n",
        "df_windows = pd.DataFrame(data = windows_so, columns = ['SO',\n",
        "                                                        'Cliente',\n",
        "                                                        'Status',\n",
        "                                                        'Host'])\n",
        "\n",
        "# Filtrando os valores\n",
        "hosts_nao_mon_qtd = df_windows.query(f\"Cliente == '{cliente}'\").query(f\"SO == '{sistema}'\").query(\"Status == 'NAO_MON'\").Host.value_counts()\n",
        "print(f'Hosts com máquinas Windows não monitoradas para o cliente {cliente}:', sum(hosts_nao_mon_qtd))\n",
        "\n",
        "hosts_mon_qtd = df_windows.query(f\"Cliente == '{cliente}'\").query(f\"SO == '{sistema}'\").query(\"Status == 'MONITORADO'\").Host.value_counts()\n",
        "print(f'\\nHosts com máquinas Windows monitoradas para o cliente {cliente}:', sum(hosts_mon_qtd))"
      ],
      "execution_count": 33,
      "outputs": [
        {
          "output_type": "stream",
          "text": [
            "Hosts com máquinas Windows não monitoradas para o cliente ALEATÓRIO: 63\n",
            "\n",
            "Hosts com máquinas Windows monitoradas para o cliente ALEATÓRIO: 100\n"
          ],
          "name": "stdout"
        }
      ]
    },
    {
      "cell_type": "code",
      "metadata": {
        "id": "z3osay4T9LpD",
        "outputId": "d0982cc8-ff3e-4716-92f2-8403e90ce7df",
        "colab": {
          "base_uri": "https://localhost:8080/",
          "height": 711
        }
      },
      "source": [
        "# Apresentando os gráficos\n",
        "grafico_hosts_nao_mon = sns.catplot(x = \"Host\", kind=\"count\",\n",
        "                               data = df_windows,\n",
        "                               aspect = 3,\n",
        "                               order = hosts_nao_mon_qtd.index,\n",
        "                               palette = \"GnBu_d\")\n",
        "\n",
        "grafico_hosts_mon = sns.catplot(x = \"Host\", kind=\"count\",\n",
        "                               data = df_windows,\n",
        "                               aspect = 3,\n",
        "                               order = hosts_mon_qtd.index,\n",
        "                               palette = \"GnBu_d\")\n",
        "\n",
        "# Limitando exibição no eixo x\n",
        "grafico_hosts_nao_mon.set(xlim=(0, 5))\n",
        "grafico_hosts_mon.set(xlim=(0, 5))\n",
        "\n",
        "# Definindo legenda vertical\n",
        "grafico_hosts_nao_mon.set_axis_labels(\"\", \"Contagem\")\n",
        "grafico_hosts_mon.set_axis_labels(\"\", \"Contagem\")"
      ],
      "execution_count": 34,
      "outputs": [
        {
          "output_type": "execute_result",
          "data": {
            "text/plain": [
              "<seaborn.axisgrid.FacetGrid at 0x7fc9b99fb828>"
            ]
          },
          "metadata": {
            "tags": []
          },
          "execution_count": 34
        },
        {
          "output_type": "display_data",
          "data": {
            "image/png": "[encoded data removed]",
            "text/plain": [
              "<Figure size 1080x360 with 1 Axes>"
            ]
          },
          "metadata": {
            "tags": [],
            "needs_background": "light"
          }
        },
        {
          "output_type": "display_data",
          "data": {
            "image/png": "[encoded data removed]",
            "text/plain": [
              "<Figure size 1080x360 with 1 Axes>"
            ]
          },
          "metadata": {
            "tags": [],
            "needs_background": "light"
          }
        }
      ]
    },
    {
      "cell_type": "markdown",
      "metadata": {
        "id": "ZgCtZst-D_tf"
      },
      "source": [
        "# **3. Medidas de Tendência Central**"
      ]
    },
    {
      "cell_type": "markdown",
      "metadata": {
        "id": "TASfzeuzEKV2"
      },
      "source": [
        "## **3.1. Média aritmética**\n",
        "***"
      ]
    },
    {
      "cell_type": "code",
      "metadata": {
        "id": "RkTe5VNqEFcj",
        "outputId": "b8b27e0f-4e8c-4093-a994-0628a2d2f866",
        "colab": {
          "base_uri": "https://localhost:8080/",
          "height": 158
        }
      },
      "source": [
        "# Analisando a média dos servidores [monitorados, não monitorados]\n",
        "media_servidores = [fq_clientes_mon.mean(), fq_clientes_nao_mon.mean()]\n",
        "media_hosts = [fq_hosts_mon.mean(), fq_hosts_nao_mon.mean()]\n",
        "media_hosts_cliente = [hosts_mon_qtd.mean(), hosts_nao_mon_qtd.mean()]\n",
        "\n",
        "print('Média dos Servidores Monitorados: %.2f' % media_servidores[0],\n",
        "      '\\nMédia dos Servidores Não Monitorados: %.2f' % media_servidores[1],\n",
        "      '\\n\\nMédia dos Hosts Monitorados: %.2f' % media_hosts[0],\n",
        "      '\\nMédia dos Hosts Não Monitorados: %.2f' % media_hosts[1],\n",
        "      f'\\n\\n({cliente}) -> Média dos Hosts Windows Monitorados: %.2f' % media_hosts_cliente[0],\n",
        "      f'\\n({cliente}) -> Média dos Hosts Windows Não Monitorados: %.2f' % media_hosts_cliente[1])"
      ],
      "execution_count": 35,
      "outputs": [
        {
          "output_type": "stream",
          "text": [
            "Média dos Servidores Monitorados: 9.72 \n",
            "Média dos Servidores Não Monitorados: 4.79 \n",
            "\n",
            "Média dos Hosts Monitorados: 12.81 \n",
            "Média dos Hosts Não Monitorados: 3.82 \n",
            "\n",
            "(ALEATÓRIO) -> Média dos Hosts Windows Monitorados: 2.27 \n",
            "(ALEATÓRIO) -> Média dos Hosts Windows Não Monitorados: 1.66\n"
          ],
          "name": "stdout"
        }
      ]
    },
    {
      "cell_type": "markdown",
      "metadata": {
        "id": "AsyL_tOkH65R"
      },
      "source": [
        "## **3.2. Mediana**\n",
        "***"
      ]
    },
    {
      "cell_type": "code",
      "metadata": {
        "id": "5sb73WamICnz",
        "outputId": "22b76d0d-4051-4a2a-85a7-85fd18684743",
        "colab": {
          "base_uri": "https://localhost:8080/",
          "height": 158
        }
      },
      "source": [
        "# Analisando a média dos servidores [monitorados, não monitorados]\n",
        "mediana_servidores = [fq_clientes_mon.median(), fq_clientes_nao_mon.median()]\n",
        "mediana_hosts = [fq_hosts_mon.median(), fq_hosts_nao_mon.median()]\n",
        "mediana_hosts_cliente = [hosts_mon_qtd.median(), hosts_nao_mon_qtd.median()]\n",
        "\n",
        "print('Mediana dos Servidores Monitorados: %.2f' % mediana_servidores[0],\n",
        "      '\\nMediana dos Servidores Não Monitorados: %.2f' % mediana_servidores[1],\n",
        "      '\\n\\nMediana dos Hosts Monitorados: %.2f' % mediana_hosts[0],\n",
        "      '\\nMediana dos Hosts Não Monitorados: %.2f' % mediana_hosts[1],\n",
        "      f'\\n\\n({cliente}) -> Mediana dos Hosts Windows Monitorados: %.2f' % mediana_hosts_cliente[0],\n",
        "      f'\\n({cliente}) -> Mediana dos Hosts Windows Não Monitorados: %.2f' % mediana_hosts_cliente[1])"
      ],
      "execution_count": 36,
      "outputs": [
        {
          "output_type": "stream",
          "text": [
            "Mediana dos Servidores Monitorados: 4.00 \n",
            "Mediana dos Servidores Não Monitorados: 1.00 \n",
            "\n",
            "Mediana dos Hosts Monitorados: 13.00 \n",
            "Mediana dos Hosts Não Monitorados: 3.00 \n",
            "\n",
            "(ALEATÓRIO) -> Mediana dos Hosts Windows Monitorados: 2.00 \n",
            "(ALEATÓRIO) -> Mediana dos Hosts Windows Não Monitorados: 1.00\n"
          ],
          "name": "stdout"
        }
      ]
    },
    {
      "cell_type": "markdown",
      "metadata": {
        "id": "eKeOolM_Irrg"
      },
      "source": [
        "## **3.3. Visualização Gráfica**\n",
        "***"
      ]
    },
    {
      "cell_type": "code",
      "metadata": {
        "id": "uXR3XjlxEicV",
        "outputId": "bba60e4c-8ec6-4155-9e92-8611fb7b0b43",
        "colab": {
          "base_uri": "https://localhost:8080/",
          "height": 353
        }
      },
      "source": [
        "import matplotlib.pyplot as plt\n",
        "\n",
        "# Verificando a distribuição desses dados\n",
        "plt.figure(figsize=(15, 5))\n",
        "plt.hist(media_servidores[0])\n",
        "plt.hist(media_servidores[1])\n",
        "plt.hist(media_hosts[0])\n",
        "plt.hist(media_hosts[1])\n",
        "plt.hist(media_hosts_cliente[0])\n",
        "plt.hist(media_hosts_cliente[1])\n",
        "plt.legend(['Servidores Monitorados', 'Servidores Não Monitorados',\n",
        "            'Hosts Monitorados', 'Hosts Não Monitorados',\n",
        "            f'{cliente} -> Hosts Windows Monitorados',\n",
        "            f'{cliente} -> Hosts Windows Não Monitorados'])\n",
        "plt.title('Distribução das Médias de Servidores')"
      ],
      "execution_count": 37,
      "outputs": [
        {
          "output_type": "execute_result",
          "data": {
            "text/plain": [
              "Text(0.5, 1.0, 'Distribução das Médias de Servidores')"
            ]
          },
          "metadata": {
            "tags": []
          },
          "execution_count": 37
        },
        {
          "output_type": "display_data",
          "data": {
            "image/png": "[encoded data removed]",
            "text/plain": [
              "<Figure size 1080x360 with 1 Axes>"
            ]
          },
          "metadata": {
            "tags": [],
            "needs_background": "light"
          }
        }
      ]
    },
    {
      "cell_type": "code",
      "metadata": {
        "id": "_lv5xHemFts3",
        "outputId": "c19b3de6-cca6-48ef-b241-83d7ba6d0fe0",
        "colab": {
          "base_uri": "https://localhost:8080/",
          "height": 353
        }
      },
      "source": [
        "plt.figure(figsize=(15, 5))\n",
        "plt.boxplot([media_servidores[0],\n",
        "             media_servidores[1],\n",
        "             media_hosts[0],\n",
        "             media_hosts[1],\n",
        "             media_hosts_cliente[0],\n",
        "             media_hosts_cliente[1]])\n",
        "plt.title('Distribução das Médias de Servidores e Visualização da Mediana')"
      ],
      "execution_count": 38,
      "outputs": [
        {
          "output_type": "execute_result",
          "data": {
            "text/plain": [
              "Text(0.5, 1.0, 'Distribução das Médias de Servidores e Visualização da Mediana')"
            ]
          },
          "metadata": {
            "tags": []
          },
          "execution_count": 38
        },
        {
          "output_type": "display_data",
          "data": {
            "image/png": "[encoded data removed]",
            "text/plain": [
              "<Figure size 1080x360 with 1 Axes>"
            ]
          },
          "metadata": {
            "tags": [],
            "needs_background": "light"
          }
        }
      ]
    }
  ]
}